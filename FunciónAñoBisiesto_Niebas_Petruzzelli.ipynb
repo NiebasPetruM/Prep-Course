{
  "nbformat": 4,
  "nbformat_minor": 0,
  "metadata": {
    "colab": {
      "name": "FunciónAñoBisiesto Niebas Petruzzelli.ipynb",
      "provenance": [],
      "collapsed_sections": [],
      "include_colab_link": true
    },
    "kernelspec": {
      "name": "python3",
      "display_name": "Python 3"
    },
    "language_info": {
      "name": "python"
    }
  },
  "cells": [
    {
      "cell_type": "markdown",
      "metadata": {
        "id": "view-in-github",
        "colab_type": "text"
      },
      "source": [
        "<a href=\"https://colab.research.google.com/github/NiebasPetruM/Prep-Course/blob/main/Funci%C3%B3nA%C3%B1oBisiesto_Niebas_Petruzzelli.ipynb\" target=\"_parent\"><img src=\"https://colab.research.google.com/assets/colab-badge.svg\" alt=\"Open In Colab\"/></a>"
      ]
    },
    {
      "cell_type": "markdown",
      "source": [
        "**DESAFÍO FUNCIÓN AÑO BISIESTO**\n",
        "\n",
        "(USAR ESTA PLANTILLA PARA ENTREGAR EL DESAFÍO POR FAVOR)\n",
        "\n",
        "\n",
        ">> **Consigna: Realizar una función llamada año_bisiesto:**\n",
        "\n",
        "Recibirá un año por parámetro.\n",
        "Imprimirá “El año año es bisiesto” si el año es bisiesto.\n",
        "\n",
        "Imprimirá “El año año no es bisiesto” si el año no es bisiesto.\n",
        "\n",
        "Si se ingresa algo que no sea número debe indicar que se ingrese un número.\n",
        "\n",
        "\n",
        "\n",
        "*Información a tener en cuenta:\n",
        "\n",
        "Se recuerda que los años bisiestos son múltiplos de 4, pero los múltiplos de 100 no lo son, aunque los múltiplos de 400 sí. Estos son algunos ejemplos de posibles respuestas: 2012 es bisiesto, 2010 no es bisiesto, 2000 es bisiesto, 1900 no es bisiesto."
      ],
      "metadata": {
        "id": "_nB-2Ja5A1X8"
      }
    },
    {
      "cell_type": "code",
      "execution_count": null,
      "metadata": {
        "id": "_E20NIz8Aoni"
      },
      "outputs": [],
      "source": [
        "año = int(input(\"Ingrese el año:  \\n\"))\n",
        "\n",
        "def bisiesto(año) :\n",
        "        if año%4==0 and año%100!=0:\n",
        "                    return True\n",
        "        elif año%100==0 and año%400==0:\n",
        "                    return True\n",
        "        else:\n",
        "                    return False\n",
        "\n",
        "print (bisiesto(año))"
      ]
    }
  ]
}